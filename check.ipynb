{
 "cells": [
  {
   "cell_type": "code",
   "execution_count": null,
   "metadata": {},
   "outputs": [],
   "source": [
    "import os\n",
    "from dotenv import load_dotenv\n",
    "\n",
    "load_dotenv()\n",
    "api_key = os.getenv(\"API_KEY\")\n",
    "print(api_key)"
   ]
  },
  {
   "cell_type": "code",
   "execution_count": 31,
   "metadata": {},
   "outputs": [],
   "source": [
    "def get_comments(youtube, **kwargs):\n",
    "    comments = []\n",
    "    results = youtube.commentThreads().list(**kwargs).execute()\n",
    "\n",
    "    while results:\n",
    "        for item in results['items']:\n",
    "            comment = item['snippet']['topLevelComment']['snippet']['textDisplay']\n",
    "            comments.append(comment)\n",
    "\n",
    "        # check if there are more comments\n",
    "        if 'nextPageToken' in results:\n",
    "            kwargs['pageToken'] = results['nextPageToken']\n",
    "            results = youtube.commentThreads().list(**kwargs).execute()\n",
    "        else:\n",
    "            break\n",
    "\n",
    "    return comments\n",
    "\n",
    "\n",
    "def comm(video_id, api_key):\n",
    "    # Disable OAuthlib's HTTPs verification when running locally.\n",
    "    os.environ[\"OAUTHLIB_INSECURE_TRANSPORT\"] = \"1\"\n",
    "\n",
    "    youtube = googleapiclient.discovery.build(\n",
    "        \"youtube\", \"v3\", developerKey=api_key)\n",
    "\n",
    "    comments = get_comments(youtube, part=\"snippet\",\n",
    "                            videoId=video_id, textFormat=\"plainText\")\n",
    "    return comments\n",
    "\n",
    "\n",
    "def get_video_comments(video_id):\n",
    "    return comm(video_id, api_key)\n",
    "\n",
    "\n"
   ]
  },
  {
   "cell_type": "code",
   "execution_count": 32,
   "metadata": {},
   "outputs": [],
   "source": [
    "def videoid(url):\n",
    "    if \"?v=\" in url:\n",
    "        video_id = url.split(\"=\")[1].split(\"&\")[0]\n",
    "        return video_id\n",
    "    else:\n",
    "        video_id = url.split(\"/\")[3].split(\"?\")[0]\n",
    "        return video_id"
   ]
  },
  {
   "cell_type": "code",
   "execution_count": 33,
   "metadata": {},
   "outputs": [
    {
     "data": {
      "text/plain": [
       "'OlPO8f-AAJk'"
      ]
     },
     "execution_count": 33,
     "metadata": {},
     "output_type": "execute_result"
    }
   ],
   "source": [
    "video_id = videoid(\n",
    "    \"https://youtu.be/OlPO8f-AAJk?si=ebQ8SWDaGRIj2F-b\")\n",
    "video_id"
   ]
  },
  {
   "cell_type": "code",
   "execution_count": 22,
   "metadata": {},
   "outputs": [
    {
     "name": "stdout",
     "output_type": "stream",
     "text": [
      "YouTube Video ID: RTYqgoKQWds\n"
     ]
    }
   ],
   "source": [
    "url = \"https://youtu.be/RTYqgoKQWds?si=DP83nIc7TnuOrCMq\"\n",
    "\n",
    "# Split the URL by \"=\" and take the second part, then split by \"&\" and take the first part\n",
    "video_id = url.split(\"/\")[3].split(\"?\")[0]\n",
    "\n",
    "print(\"YouTube Video ID:\", video_id)\n"
   ]
  },
  {
   "cell_type": "code",
   "execution_count": null,
   "metadata": {},
   "outputs": [],
   "source": [
    "comm = get_video_comments(\"OlPO8f-AAJk\")\n",
    "comm"
   ]
  },
  {
   "cell_type": "code",
   "execution_count": null,
   "metadata": {},
   "outputs": [],
   "source": [
    "comm = get_video_comments(video_id)\n",
    "comm"
   ]
  },
  {
   "cell_type": "code",
   "execution_count": 19,
   "metadata": {},
   "outputs": [
    {
     "data": {
      "text/plain": [
       "216"
      ]
     },
     "execution_count": 19,
     "metadata": {},
     "output_type": "execute_result"
    }
   ],
   "source": [
    "len(comm)"
   ]
  },
  {
   "cell_type": "code",
   "execution_count": null,
   "metadata": {},
   "outputs": [],
   "source": []
  },
  {
   "cell_type": "code",
   "execution_count": 4,
   "metadata": {},
   "outputs": [],
   "source": [
    "leng = len(comm)"
   ]
  },
  {
   "cell_type": "code",
   "execution_count": 5,
   "metadata": {},
   "outputs": [
    {
     "data": {
      "text/plain": [
       "1628"
      ]
     },
     "execution_count": 5,
     "metadata": {},
     "output_type": "execute_result"
    }
   ],
   "source": [
    "leng"
   ]
  },
  {
   "cell_type": "code",
   "execution_count": null,
   "metadata": {},
   "outputs": [],
   "source": [
    "comm[230]"
   ]
  },
  {
   "cell_type": "code",
   "execution_count": 15,
   "metadata": {},
   "outputs": [
    {
     "data": {
      "text/plain": [
       "39"
      ]
     },
     "execution_count": 15,
     "metadata": {},
     "output_type": "execute_result"
    }
   ],
   "source": [
    "len(comm[230])"
   ]
  },
  {
   "cell_type": "code",
   "execution_count": 20,
   "metadata": {},
   "outputs": [
    {
     "name": "stdout",
     "output_type": "stream",
     "text": [
      "143.03931515535828\n",
      "225573\n"
     ]
    }
   ],
   "source": [
    "num = 0\n",
    "for i in range(leng):\n",
    "    n = len(comm[i])\n",
    "    num += n\n",
    "print(num/leng)\n",
    "print(num)"
   ]
  },
  {
   "cell_type": "code",
   "execution_count": null,
   "metadata": {},
   "outputs": [],
   "source": [
    "import streamlit as st\n",
    "from dotenv import load_dotenv\n",
    "import googleapiclient.errors\n",
    "import googleapiclient.discovery\n",
    "import os\n",
    "from transformers import AutoTokenizer, AutoModelForSequenceClassification\n",
    "import torch\n",
    "\n",
    "\n",
    "tokenizer = AutoTokenizer.from_pretrained(\n",
    "    'nlptown/bert-base-multilingual-uncased-sentiment')\n",
    "model = AutoModelForSequenceClassification.from_pretrained(\n",
    "    'nlptown/bert-base-multilingual-uncased-sentiment')"
   ]
  },
  {
   "cell_type": "code",
   "execution_count": null,
   "metadata": {},
   "outputs": [],
   "source": [
    "num = 0\n",
    "lis = []\n",
    "for i, comment in enumerate(comm, 1):\n",
    "    #tokens = tokenizer.encode(comment, return_tensors='pt')\n",
    "    tokens = tokenizer.encode(comment, return_tensors='pt', max_length=512)\n",
    "\n",
    "    result = model(tokens)\n",
    "    sentiment = int(torch.argmax(result.logits)) + 1\n",
    "    num += sentiment\n",
    "    lis.append(f\"Comment {i}: {comment} (Sentiment: {sentiment})\")\n",
    "print(num/len(comm))\n",
    "\n",
    "\n",
    "for line in lis:\n",
    "    print(line)"
   ]
  },
  {
   "cell_type": "code",
   "execution_count": null,
   "metadata": {},
   "outputs": [],
   "source": []
  }
 ],
 "metadata": {
  "kernelspec": {
   "display_name": "base",
   "language": "python",
   "name": "python3"
  },
  "language_info": {
   "codemirror_mode": {
    "name": "ipython",
    "version": 3
   },
   "file_extension": ".py",
   "mimetype": "text/x-python",
   "name": "python",
   "nbconvert_exporter": "python",
   "pygments_lexer": "ipython3",
   "version": "3.11.5"
  }
 },
 "nbformat": 4,
 "nbformat_minor": 2
}
